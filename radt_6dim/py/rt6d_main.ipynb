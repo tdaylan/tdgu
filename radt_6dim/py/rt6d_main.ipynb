{
 "cells": [
  {
   "cell_type": "code",
   "execution_count": 6,
   "metadata": {
    "collapsed": false
   },
   "outputs": [],
   "source": [
    "import json, requests\n",
    "import h5py\n",
    "from numpy import *\n",
    "import healpy as hp\n",
    "import tdpy_util\n",
    "import matplotlib.pyplot as plt\n",
    "\n",
    "# plotting\n",
    "import matplotlib.pyplot as plt\n",
    "import matplotlib\n",
    "import seaborn as sns\n",
    "sns.set(context='poster', style='dark', color_codes=True)\n"
   ]
  },
  {
   "cell_type": "code",
   "execution_count": 7,
   "metadata": {
    "collapsed": false
   },
   "outputs": [],
   "source": [
    "def query(lon, lat, coordsys='gal', mode='full'):\n",
    "    \n",
    "    url = 'http://argonaut.skymaps.info/gal-lb-query-light'\n",
    "    \n",
    "    payload = {'mode': mode}\n",
    "    \n",
    "    if coordsys.lower() in ['gal', 'g']:\n",
    "        payload['l'] = lon\n",
    "        payload['b'] = lat\n",
    "    elif coordsys.lower() in ['equ', 'e']:\n",
    "        payload['ra'] = lon\n",
    "        payload['dec'] = lat\n",
    "    else:\n",
    "        raise ValueError(\"coordsys '{0}' not understood.\".format(coordsys))\n",
    "    \n",
    "    headers = {'content-type': 'application/json'}\n",
    "    \n",
    "    r = requests.post(url, data=json.dumps(payload), headers=headers)\n",
    "    \n",
    "    try:\n",
    "        r.raise_for_status()\n",
    "    except requests.exceptions.HTTPError as e:\n",
    "        print('Response received from Argonaut:')\n",
    "        print(r.text)\n",
    "        raise e\n",
    "    \n",
    "    return json.loads(r.text)"
   ]
  },
  {
   "cell_type": "code",
   "execution_count": 10,
   "metadata": {
    "collapsed": false,
    "scrolled": false
   },
   "outputs": [
    {
     "data": {
      "image/png": "[encoded data removed]",
      "text/plain": [
       "<matplotlib.figure.Figure at 0x7075a90>"
      ]
     },
     "metadata": {},
     "output_type": "display_data"
    }
   ],
   "source": [
    "%matplotlib inline\n",
    "magv = arange(10, 22)\n",
    "prlxerrr = array([4., 4., 4.2, 6.0, 9.1, 14.3, 23.1, 38.8, 69.7, 138., 312., 1786.])\n",
    "\n",
    "fig, ax = plt.subplots()\n",
    "ax.plot(magv, prlxerrr)\n",
    "ax.set_ylabel(r'$\\sigma_\\pi [\\mu$as]')\n",
    "ax.set_xlabel('V [mag]')\n",
    "ax.set_yscale('log')\n",
    "plt.show()"
   ]
  },
  {
   "cell_type": "code",
   "execution_count": null,
   "metadata": {
    "collapsed": false
   },
   "outputs": [],
   "source": [
    "nside = 256\n",
    "maxmgang = 10.\n",
    "lghp, bghp, nside, npixl, apix = tdpy_util.get_heal(nside) \n",
    "mpixl = where((abs(lghp) < maxmgang) & (abs(90. - bghp) < maxmgang))[0]\n",
    "\n",
    "qresult = query(list(lghp[mpixl]), list(bghp[mpixl]))\n",
    "for key in qresult.keys():\n",
    "    fig, ax = plt.subplots()\n",
    "    ax.hist(qresult[key], 100)\n",
    "    ax.set_title(key)\n",
    "    plt.show()\n",
    "\n",
    "qresult = query(list(lghp[mpixl]), list(bghp[mpixl]), mode='sfd')\n",
    "for key in qresult.keys():\n",
    "    fig, ax = plt.subplots()\n",
    "    ax.hist(qresult[key])\n",
    "    ax.set_title(key)\n",
    "    plt.show()\n",
    "    \n",
    "qresult = query(list(lghp[mpixl]), list(bghp[mpixl]), mode='lite')\n",
    "for key in qresult.keys():\n",
    "    fig, ax = plt.subplots()\n",
    "    ax.hist(qresult[key])\n",
    "    ax.set_title(key)\n",
    "    plt.show()\n"
   ]
  },
  {
   "cell_type": "code",
   "execution_count": null,
   "metadata": {
    "collapsed": true
   },
   "outputs": [],
   "source": []
  }
 ],
 "metadata": {
  "kernelspec": {
   "display_name": "Python 2",
   "language": "python",
   "name": "python2"
  },
  "language_info": {
   "codemirror_mode": {
    "name": "ipython",
    "version": 2
   },
   "file_extension": ".py",
   "mimetype": "text/x-python",
   "name": "python",
   "nbconvert_exporter": "python",
   "pygments_lexer": "ipython2",
   "version": "2.7.10"
  }
 },
 "nbformat": 4,
 "nbformat_minor": 0
}
